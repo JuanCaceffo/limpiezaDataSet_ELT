{
 "cells": [
  {
   "attachments": {},
   "cell_type": "markdown",
   "metadata": {},
   "source": [
    "# Limpieza de Datos: Ataque de tiburones\n",
    "La misión del Global Shark Attack File es proporcionar datos actuales e históricos sobre las interacciones entre humanos y tiburones para aquellos que buscan información precisa, significativa y referencias verificables. \n",
    "\n",
    "Los humanos no están en el menú de los tiburones. Los tiburones muerden a los humanos por curiosidad o para defenderse.\n",
    "\n",
    "\n",
    "- Se define un **incidente provocado** como uno en el que el tiburón fue atravesado, enganchado, capturado o en el que un ser humano extrajo \"primera sangre\". Sabemos que un ser humano vivo rara vez es percibido como presa por un tiburón. Muchos incidentes están motivados por la curiosidad, otros pueden ocurrir cuando un tiburón percibe a un humano como una amenaza o un competidor por una fuente de alimento, y podrían clasificarse como \"provocados\" cuando se examinan desde la perspectiva del tiburón. \n",
    "\n",
    "- **Incidentes que involucran embarcaciones**: los incidentes en los que un barco fue mordido o embestido por un tiburón están en verde. Sin embargo, en los casos en los que el tiburón fue enganchado, enredado o amarrado, la entrada es naranja porque se clasifican como incidentes provocados. \n",
    "\n",
    "- **Incidentes cuestionables**: incidentes en los que no hay datos suficientes para determinar si la lesión fue causada por un tiburón o si la persona se ahogó y el cuerpo fue luego devorado por los tiburones\n",
    "\n",
    "Fuente: https://sharkattackfile.net/"
   ]
  },
  {
   "cell_type": "code",
   "execution_count": 101,
   "metadata": {},
   "outputs": [],
   "source": [
    "import pandas as pd\n",
    "import numpy as np\n",
    "import requests"
   ]
  },
  {
   "cell_type": "code",
   "execution_count": 2,
   "metadata": {},
   "outputs": [
    {
     "data": {
      "text/html": [
       "<div>\n",
       "<style scoped>\n",
       "    .dataframe tbody tr th:only-of-type {\n",
       "        vertical-align: middle;\n",
       "    }\n",
       "\n",
       "    .dataframe tbody tr th {\n",
       "        vertical-align: top;\n",
       "    }\n",
       "\n",
       "    .dataframe thead th {\n",
       "        text-align: right;\n",
       "    }\n",
       "</style>\n",
       "<table border=\"1\" class=\"dataframe\">\n",
       "  <thead>\n",
       "    <tr style=\"text-align: right;\">\n",
       "      <th></th>\n",
       "      <th>Case Number</th>\n",
       "      <th>Date</th>\n",
       "      <th>Year</th>\n",
       "      <th>Type</th>\n",
       "      <th>Country</th>\n",
       "      <th>Area</th>\n",
       "      <th>Location</th>\n",
       "      <th>Activity</th>\n",
       "      <th>Name</th>\n",
       "      <th>Sex</th>\n",
       "      <th>...</th>\n",
       "      <th>Species</th>\n",
       "      <th>Investigator or Source</th>\n",
       "      <th>pdf</th>\n",
       "      <th>href formula</th>\n",
       "      <th>href</th>\n",
       "      <th>Case Number.1</th>\n",
       "      <th>Case Number.2</th>\n",
       "      <th>original order</th>\n",
       "      <th>Unnamed: 22</th>\n",
       "      <th>Unnamed: 23</th>\n",
       "    </tr>\n",
       "  </thead>\n",
       "  <tbody>\n",
       "    <tr>\n",
       "      <th>0</th>\n",
       "      <td>2018.06.25</td>\n",
       "      <td>25-Jun-2018</td>\n",
       "      <td>2018.0</td>\n",
       "      <td>Boating</td>\n",
       "      <td>USA</td>\n",
       "      <td>California</td>\n",
       "      <td>Oceanside| San Diego County</td>\n",
       "      <td>Paddling</td>\n",
       "      <td>Julie Wolfe</td>\n",
       "      <td>F</td>\n",
       "      <td>...</td>\n",
       "      <td>White shark</td>\n",
       "      <td>R. Collier| GSAF</td>\n",
       "      <td>2018.06.25-Wolfe.pdf</td>\n",
       "      <td>http://sharkattackfile.net/spreadsheets/pdf_di...</td>\n",
       "      <td>http://sharkattackfile.net/spreadsheets/pdf_di...</td>\n",
       "      <td>2018.06.25</td>\n",
       "      <td>2018.06.25</td>\n",
       "      <td>6303.0</td>\n",
       "      <td>NaN</td>\n",
       "      <td>NaN</td>\n",
       "    </tr>\n",
       "    <tr>\n",
       "      <th>1</th>\n",
       "      <td>2018.06.18</td>\n",
       "      <td>18-Jun-2018</td>\n",
       "      <td>2018.0</td>\n",
       "      <td>Unprovoked</td>\n",
       "      <td>USA</td>\n",
       "      <td>Georgia</td>\n",
       "      <td>St. Simon Island| Glynn County</td>\n",
       "      <td>Standing</td>\n",
       "      <td>Adysonï¿½McNeely</td>\n",
       "      <td>F</td>\n",
       "      <td>...</td>\n",
       "      <td>NaN</td>\n",
       "      <td>K.McMurray| TrackingSharks.com</td>\n",
       "      <td>2018.06.18-McNeely.pdf</td>\n",
       "      <td>http://sharkattackfile.net/spreadsheets/pdf_di...</td>\n",
       "      <td>http://sharkattackfile.net/spreadsheets/pdf_di...</td>\n",
       "      <td>2018.06.18</td>\n",
       "      <td>2018.06.18</td>\n",
       "      <td>6302.0</td>\n",
       "      <td>NaN</td>\n",
       "      <td>NaN</td>\n",
       "    </tr>\n",
       "    <tr>\n",
       "      <th>2</th>\n",
       "      <td>2018.06.09</td>\n",
       "      <td>09-Jun-2018</td>\n",
       "      <td>2018.0</td>\n",
       "      <td>Invalid</td>\n",
       "      <td>USA</td>\n",
       "      <td>Hawaii</td>\n",
       "      <td>Habush| Oahu</td>\n",
       "      <td>Surfing</td>\n",
       "      <td>John Denges</td>\n",
       "      <td>M</td>\n",
       "      <td>...</td>\n",
       "      <td>NaN</td>\n",
       "      <td>K.McMurray| TrackingSharks.com</td>\n",
       "      <td>2018.06.09-Denges.pdf</td>\n",
       "      <td>http://sharkattackfile.net/spreadsheets/pdf_di...</td>\n",
       "      <td>http://sharkattackfile.net/spreadsheets/pdf_di...</td>\n",
       "      <td>2018.06.09</td>\n",
       "      <td>2018.06.09</td>\n",
       "      <td>6301.0</td>\n",
       "      <td>NaN</td>\n",
       "      <td>NaN</td>\n",
       "    </tr>\n",
       "    <tr>\n",
       "      <th>3</th>\n",
       "      <td>2018.06.08</td>\n",
       "      <td>08-Jun-2018</td>\n",
       "      <td>2018.0</td>\n",
       "      <td>Unprovoked</td>\n",
       "      <td>AUSTRALIA</td>\n",
       "      <td>New South Wales</td>\n",
       "      <td>Arrawarra Headland</td>\n",
       "      <td>Surfing</td>\n",
       "      <td>male</td>\n",
       "      <td>M</td>\n",
       "      <td>...</td>\n",
       "      <td>2 m shark</td>\n",
       "      <td>B. Myatt| GSAF</td>\n",
       "      <td>2018.06.08-Arrawarra.pdf</td>\n",
       "      <td>http://sharkattackfile.net/spreadsheets/pdf_di...</td>\n",
       "      <td>http://sharkattackfile.net/spreadsheets/pdf_di...</td>\n",
       "      <td>2018.06.08</td>\n",
       "      <td>2018.06.08</td>\n",
       "      <td>6300.0</td>\n",
       "      <td>NaN</td>\n",
       "      <td>NaN</td>\n",
       "    </tr>\n",
       "    <tr>\n",
       "      <th>4</th>\n",
       "      <td>2018.06.04</td>\n",
       "      <td>04-Jun-2018</td>\n",
       "      <td>2018.0</td>\n",
       "      <td>Provoked</td>\n",
       "      <td>MEXICO</td>\n",
       "      <td>Colima</td>\n",
       "      <td>La Ticla</td>\n",
       "      <td>Free diving</td>\n",
       "      <td>Gustavo Ramos</td>\n",
       "      <td>M</td>\n",
       "      <td>...</td>\n",
       "      <td>Tiger shark| 3m</td>\n",
       "      <td>A .Kipper</td>\n",
       "      <td>2018.06.04-Ramos.pdf</td>\n",
       "      <td>http://sharkattackfile.net/spreadsheets/pdf_di...</td>\n",
       "      <td>http://sharkattackfile.net/spreadsheets/pdf_di...</td>\n",
       "      <td>2018.06.04</td>\n",
       "      <td>2018.06.04</td>\n",
       "      <td>6299.0</td>\n",
       "      <td>NaN</td>\n",
       "      <td>NaN</td>\n",
       "    </tr>\n",
       "    <tr>\n",
       "      <th>...</th>\n",
       "      <td>...</td>\n",
       "      <td>...</td>\n",
       "      <td>...</td>\n",
       "      <td>...</td>\n",
       "      <td>...</td>\n",
       "      <td>...</td>\n",
       "      <td>...</td>\n",
       "      <td>...</td>\n",
       "      <td>...</td>\n",
       "      <td>...</td>\n",
       "      <td>...</td>\n",
       "      <td>...</td>\n",
       "      <td>...</td>\n",
       "      <td>...</td>\n",
       "      <td>...</td>\n",
       "      <td>...</td>\n",
       "      <td>...</td>\n",
       "      <td>...</td>\n",
       "      <td>...</td>\n",
       "      <td>...</td>\n",
       "      <td>...</td>\n",
       "    </tr>\n",
       "    <tr>\n",
       "      <th>25718</th>\n",
       "      <td>NaN</td>\n",
       "      <td>NaN</td>\n",
       "      <td>NaN</td>\n",
       "      <td>NaN</td>\n",
       "      <td>NaN</td>\n",
       "      <td>NaN</td>\n",
       "      <td>NaN</td>\n",
       "      <td>NaN</td>\n",
       "      <td>NaN</td>\n",
       "      <td>NaN</td>\n",
       "      <td>...</td>\n",
       "      <td>NaN</td>\n",
       "      <td>NaN</td>\n",
       "      <td>NaN</td>\n",
       "      <td>NaN</td>\n",
       "      <td>NaN</td>\n",
       "      <td>NaN</td>\n",
       "      <td>NaN</td>\n",
       "      <td>NaN</td>\n",
       "      <td>NaN</td>\n",
       "      <td>NaN</td>\n",
       "    </tr>\n",
       "    <tr>\n",
       "      <th>25719</th>\n",
       "      <td>NaN</td>\n",
       "      <td>NaN</td>\n",
       "      <td>NaN</td>\n",
       "      <td>NaN</td>\n",
       "      <td>NaN</td>\n",
       "      <td>NaN</td>\n",
       "      <td>NaN</td>\n",
       "      <td>NaN</td>\n",
       "      <td>NaN</td>\n",
       "      <td>NaN</td>\n",
       "      <td>...</td>\n",
       "      <td>NaN</td>\n",
       "      <td>NaN</td>\n",
       "      <td>NaN</td>\n",
       "      <td>NaN</td>\n",
       "      <td>NaN</td>\n",
       "      <td>NaN</td>\n",
       "      <td>NaN</td>\n",
       "      <td>NaN</td>\n",
       "      <td>NaN</td>\n",
       "      <td>NaN</td>\n",
       "    </tr>\n",
       "    <tr>\n",
       "      <th>25720</th>\n",
       "      <td>NaN</td>\n",
       "      <td>NaN</td>\n",
       "      <td>NaN</td>\n",
       "      <td>NaN</td>\n",
       "      <td>NaN</td>\n",
       "      <td>NaN</td>\n",
       "      <td>NaN</td>\n",
       "      <td>NaN</td>\n",
       "      <td>NaN</td>\n",
       "      <td>NaN</td>\n",
       "      <td>...</td>\n",
       "      <td>NaN</td>\n",
       "      <td>NaN</td>\n",
       "      <td>NaN</td>\n",
       "      <td>NaN</td>\n",
       "      <td>NaN</td>\n",
       "      <td>NaN</td>\n",
       "      <td>NaN</td>\n",
       "      <td>NaN</td>\n",
       "      <td>NaN</td>\n",
       "      <td>NaN</td>\n",
       "    </tr>\n",
       "    <tr>\n",
       "      <th>25721</th>\n",
       "      <td>NaN</td>\n",
       "      <td>NaN</td>\n",
       "      <td>NaN</td>\n",
       "      <td>NaN</td>\n",
       "      <td>NaN</td>\n",
       "      <td>NaN</td>\n",
       "      <td>NaN</td>\n",
       "      <td>NaN</td>\n",
       "      <td>NaN</td>\n",
       "      <td>NaN</td>\n",
       "      <td>...</td>\n",
       "      <td>NaN</td>\n",
       "      <td>NaN</td>\n",
       "      <td>NaN</td>\n",
       "      <td>NaN</td>\n",
       "      <td>NaN</td>\n",
       "      <td>NaN</td>\n",
       "      <td>NaN</td>\n",
       "      <td>NaN</td>\n",
       "      <td>NaN</td>\n",
       "      <td>NaN</td>\n",
       "    </tr>\n",
       "    <tr>\n",
       "      <th>25722</th>\n",
       "      <td>xx</td>\n",
       "      <td>NaN</td>\n",
       "      <td>NaN</td>\n",
       "      <td>NaN</td>\n",
       "      <td>NaN</td>\n",
       "      <td>NaN</td>\n",
       "      <td>NaN</td>\n",
       "      <td>NaN</td>\n",
       "      <td>NaN</td>\n",
       "      <td>NaN</td>\n",
       "      <td>...</td>\n",
       "      <td>NaN</td>\n",
       "      <td>NaN</td>\n",
       "      <td>NaN</td>\n",
       "      <td>NaN</td>\n",
       "      <td>NaN</td>\n",
       "      <td>NaN</td>\n",
       "      <td>NaN</td>\n",
       "      <td>NaN</td>\n",
       "      <td>NaN</td>\n",
       "      <td>NaN</td>\n",
       "    </tr>\n",
       "  </tbody>\n",
       "</table>\n",
       "<p>25723 rows × 24 columns</p>\n",
       "</div>"
      ],
      "text/plain": [
       "      Case Number         Date    Year        Type    Country  \\\n",
       "0      2018.06.25  25-Jun-2018  2018.0     Boating        USA   \n",
       "1      2018.06.18  18-Jun-2018  2018.0  Unprovoked        USA   \n",
       "2      2018.06.09  09-Jun-2018  2018.0     Invalid        USA   \n",
       "3      2018.06.08  08-Jun-2018  2018.0  Unprovoked  AUSTRALIA   \n",
       "4      2018.06.04  04-Jun-2018  2018.0    Provoked     MEXICO   \n",
       "...           ...          ...     ...         ...        ...   \n",
       "25718         NaN          NaN     NaN         NaN        NaN   \n",
       "25719         NaN          NaN     NaN         NaN        NaN   \n",
       "25720         NaN          NaN     NaN         NaN        NaN   \n",
       "25721         NaN          NaN     NaN         NaN        NaN   \n",
       "25722          xx          NaN     NaN         NaN        NaN   \n",
       "\n",
       "                  Area                        Location     Activity  \\\n",
       "0           California     Oceanside| San Diego County     Paddling   \n",
       "1              Georgia  St. Simon Island| Glynn County     Standing   \n",
       "2               Hawaii                    Habush| Oahu      Surfing   \n",
       "3      New South Wales              Arrawarra Headland      Surfing   \n",
       "4               Colima                        La Ticla  Free diving   \n",
       "...                ...                             ...          ...   \n",
       "25718              NaN                             NaN          NaN   \n",
       "25719              NaN                             NaN          NaN   \n",
       "25720              NaN                             NaN          NaN   \n",
       "25721              NaN                             NaN          NaN   \n",
       "25722              NaN                             NaN          NaN   \n",
       "\n",
       "                    Name Sex   ...         Species   \\\n",
       "0            Julie Wolfe    F  ...      White shark   \n",
       "1      Adysonï¿½McNeely     F  ...              NaN   \n",
       "2            John Denges    M  ...              NaN   \n",
       "3                   male    M  ...        2 m shark   \n",
       "4         Gustavo Ramos     M  ...  Tiger shark| 3m   \n",
       "...                  ...  ...  ...              ...   \n",
       "25718                NaN  NaN  ...              NaN   \n",
       "25719                NaN  NaN  ...              NaN   \n",
       "25720                NaN  NaN  ...              NaN   \n",
       "25721                NaN  NaN  ...              NaN   \n",
       "25722                NaN  NaN  ...              NaN   \n",
       "\n",
       "               Investigator or Source                       pdf  \\\n",
       "0                    R. Collier| GSAF      2018.06.25-Wolfe.pdf   \n",
       "1      K.McMurray| TrackingSharks.com    2018.06.18-McNeely.pdf   \n",
       "2      K.McMurray| TrackingSharks.com     2018.06.09-Denges.pdf   \n",
       "3                      B. Myatt| GSAF  2018.06.08-Arrawarra.pdf   \n",
       "4                           A .Kipper      2018.06.04-Ramos.pdf   \n",
       "...                               ...                       ...   \n",
       "25718                             NaN                       NaN   \n",
       "25719                             NaN                       NaN   \n",
       "25720                             NaN                       NaN   \n",
       "25721                             NaN                       NaN   \n",
       "25722                             NaN                       NaN   \n",
       "\n",
       "                                            href formula  \\\n",
       "0      http://sharkattackfile.net/spreadsheets/pdf_di...   \n",
       "1      http://sharkattackfile.net/spreadsheets/pdf_di...   \n",
       "2      http://sharkattackfile.net/spreadsheets/pdf_di...   \n",
       "3      http://sharkattackfile.net/spreadsheets/pdf_di...   \n",
       "4      http://sharkattackfile.net/spreadsheets/pdf_di...   \n",
       "...                                                  ...   \n",
       "25718                                                NaN   \n",
       "25719                                                NaN   \n",
       "25720                                                NaN   \n",
       "25721                                                NaN   \n",
       "25722                                                NaN   \n",
       "\n",
       "                                                    href Case Number.1  \\\n",
       "0      http://sharkattackfile.net/spreadsheets/pdf_di...    2018.06.25   \n",
       "1      http://sharkattackfile.net/spreadsheets/pdf_di...    2018.06.18   \n",
       "2      http://sharkattackfile.net/spreadsheets/pdf_di...    2018.06.09   \n",
       "3      http://sharkattackfile.net/spreadsheets/pdf_di...    2018.06.08   \n",
       "4      http://sharkattackfile.net/spreadsheets/pdf_di...    2018.06.04   \n",
       "...                                                  ...           ...   \n",
       "25718                                                NaN           NaN   \n",
       "25719                                                NaN           NaN   \n",
       "25720                                                NaN           NaN   \n",
       "25721                                                NaN           NaN   \n",
       "25722                                                NaN           NaN   \n",
       "\n",
       "      Case Number.2 original order Unnamed: 22 Unnamed: 23  \n",
       "0        2018.06.25         6303.0         NaN         NaN  \n",
       "1        2018.06.18         6302.0         NaN         NaN  \n",
       "2        2018.06.09         6301.0         NaN         NaN  \n",
       "3        2018.06.08         6300.0         NaN         NaN  \n",
       "4        2018.06.04         6299.0         NaN         NaN  \n",
       "...             ...            ...         ...         ...  \n",
       "25718           NaN            NaN         NaN         NaN  \n",
       "25719           NaN            NaN         NaN         NaN  \n",
       "25720           NaN            NaN         NaN         NaN  \n",
       "25721           NaN            NaN         NaN         NaN  \n",
       "25722           NaN            NaN         NaN         NaN  \n",
       "\n",
       "[25723 rows x 24 columns]"
      ]
     },
     "execution_count": 2,
     "metadata": {},
     "output_type": "execute_result"
    }
   ],
   "source": [
    "attacks = pd.read_csv('https://raw.githubusercontent.com/PPereyraAN/Cursos/main/attacks.csv',encoding = 'latin-1', sep = \"|\")"
   ]
  },
  {
   "attachments": {},
   "cell_type": "markdown",
   "metadata": {},
   "source": [
    "Analisamos el dataset y atacando en primera instancia los valores nulos"
   ]
  },
  {
   "cell_type": "code",
   "execution_count": 3,
   "metadata": {},
   "outputs": [
    {
     "data": {
      "text/plain": [
       "(25723, 24)"
      ]
     },
     "execution_count": 3,
     "metadata": {},
     "output_type": "execute_result"
    }
   ],
   "source": [
    "attacks.shape"
   ]
  },
  {
   "cell_type": "code",
   "execution_count": 4,
   "metadata": {},
   "outputs": [
    {
     "name": "stdout",
     "output_type": "stream",
     "text": [
      "<class 'pandas.core.frame.DataFrame'>\n",
      "RangeIndex: 25723 entries, 0 to 25722\n",
      "Data columns (total 24 columns):\n",
      " #   Column                  Non-Null Count  Dtype  \n",
      "---  ------                  --------------  -----  \n",
      " 0   Case Number             8702 non-null   object \n",
      " 1   Date                    6302 non-null   object \n",
      " 2   Year                    6300 non-null   float64\n",
      " 3   Type                    6298 non-null   object \n",
      " 4   Country                 6252 non-null   object \n",
      " 5   Area                    5847 non-null   object \n",
      " 6   Location                5762 non-null   object \n",
      " 7   Activity                5758 non-null   object \n",
      " 8   Name                    6092 non-null   object \n",
      " 9   Sex                     5737 non-null   object \n",
      " 10  Age                     3471 non-null   object \n",
      " 11  Injury                  6274 non-null   object \n",
      " 12  Fatal (Y/N)             5763 non-null   object \n",
      " 13  Time                    2948 non-null   object \n",
      " 14  Species                 3464 non-null   object \n",
      " 15  Investigator or Source  6285 non-null   object \n",
      " 16  pdf                     6302 non-null   object \n",
      " 17  href formula            6301 non-null   object \n",
      " 18  href                    6302 non-null   object \n",
      " 19  Case Number.1           6302 non-null   object \n",
      " 20  Case Number.2           6302 non-null   object \n",
      " 21  original order          6309 non-null   float64\n",
      " 22  Unnamed: 22             1 non-null      object \n",
      " 23  Unnamed: 23             2 non-null      object \n",
      "dtypes: float64(2), object(22)\n",
      "memory usage: 4.7+ MB\n"
     ]
    }
   ],
   "source": [
    "attacks.info()"
   ]
  },
  {
   "cell_type": "code",
   "execution_count": 5,
   "metadata": {},
   "outputs": [
    {
     "data": {
      "text/html": [
       "<div>\n",
       "<style scoped>\n",
       "    .dataframe tbody tr th:only-of-type {\n",
       "        vertical-align: middle;\n",
       "    }\n",
       "\n",
       "    .dataframe tbody tr th {\n",
       "        vertical-align: top;\n",
       "    }\n",
       "\n",
       "    .dataframe thead th {\n",
       "        text-align: right;\n",
       "    }\n",
       "</style>\n",
       "<table border=\"1\" class=\"dataframe\">\n",
       "  <thead>\n",
       "    <tr style=\"text-align: right;\">\n",
       "      <th></th>\n",
       "      <th>Year</th>\n",
       "      <th>original order</th>\n",
       "    </tr>\n",
       "  </thead>\n",
       "  <tbody>\n",
       "    <tr>\n",
       "      <th>count</th>\n",
       "      <td>6300.000000</td>\n",
       "      <td>6309.000000</td>\n",
       "    </tr>\n",
       "    <tr>\n",
       "      <th>mean</th>\n",
       "      <td>1927.272381</td>\n",
       "      <td>3155.999683</td>\n",
       "    </tr>\n",
       "    <tr>\n",
       "      <th>std</th>\n",
       "      <td>281.116308</td>\n",
       "      <td>1821.396206</td>\n",
       "    </tr>\n",
       "    <tr>\n",
       "      <th>min</th>\n",
       "      <td>0.000000</td>\n",
       "      <td>2.000000</td>\n",
       "    </tr>\n",
       "    <tr>\n",
       "      <th>25%</th>\n",
       "      <td>1942.000000</td>\n",
       "      <td>1579.000000</td>\n",
       "    </tr>\n",
       "    <tr>\n",
       "      <th>50%</th>\n",
       "      <td>1977.000000</td>\n",
       "      <td>3156.000000</td>\n",
       "    </tr>\n",
       "    <tr>\n",
       "      <th>75%</th>\n",
       "      <td>2005.000000</td>\n",
       "      <td>4733.000000</td>\n",
       "    </tr>\n",
       "    <tr>\n",
       "      <th>max</th>\n",
       "      <td>2018.000000</td>\n",
       "      <td>6310.000000</td>\n",
       "    </tr>\n",
       "  </tbody>\n",
       "</table>\n",
       "</div>"
      ],
      "text/plain": [
       "              Year  original order\n",
       "count  6300.000000     6309.000000\n",
       "mean   1927.272381     3155.999683\n",
       "std     281.116308     1821.396206\n",
       "min       0.000000        2.000000\n",
       "25%    1942.000000     1579.000000\n",
       "50%    1977.000000     3156.000000\n",
       "75%    2005.000000     4733.000000\n",
       "max    2018.000000     6310.000000"
      ]
     },
     "execution_count": 5,
     "metadata": {},
     "output_type": "execute_result"
    }
   ],
   "source": [
    "attacks.describe()"
   ]
  },
  {
   "attachments": {},
   "cell_type": "markdown",
   "metadata": {},
   "source": [
    "porcentaje de valores nulos por columna\n"
   ]
  },
  {
   "cell_type": "code",
   "execution_count": 6,
   "metadata": {},
   "outputs": [],
   "source": [
    "def nullPercentagePerColunm():\n",
    "    return round((attacks.isna().sum()*100/attacks.shape[0]).sort_values(ascending=False),3)"
   ]
  },
  {
   "attachments": {},
   "cell_type": "markdown",
   "metadata": {},
   "source": [
    "Observamos que la cantidad de nulos por columna en todos los casos supera mas del 50%"
   ]
  },
  {
   "cell_type": "code",
   "execution_count": 7,
   "metadata": {},
   "outputs": [],
   "source": [
    "#eliminamos las columnas que tienen casi un 100% de valores nulos\n",
    "attacks.drop(axis=1,labels=[\"Unnamed: 22\",\"Unnamed: 23\"],inplace=True)"
   ]
  },
  {
   "cell_type": "code",
   "execution_count": 8,
   "metadata": {},
   "outputs": [],
   "source": [
    "#eliminamos las filas nulas\n",
    "attacks.dropna(axis=0,how=\"all\",inplace=True)"
   ]
  },
  {
   "cell_type": "code",
   "execution_count": 9,
   "metadata": {},
   "outputs": [
    {
     "data": {
      "text/plain": [
       "(8703, 22)"
      ]
     },
     "execution_count": 9,
     "metadata": {},
     "output_type": "execute_result"
    }
   ],
   "source": [
    "attacks.shape"
   ]
  },
  {
   "cell_type": "code",
   "execution_count": 10,
   "metadata": {},
   "outputs": [
    {
     "data": {
      "text/plain": [
       "Time                      66.127\n",
       "Species                   60.198\n",
       "Age                       60.117\n",
       "Sex                       34.080\n",
       "Activity                  33.839\n",
       "Location                  33.793\n",
       "Fatal (Y/N)               33.781\n",
       "Area                      32.816\n",
       "Name                      30.001\n",
       "Country                   28.163\n",
       "Injury                    27.910\n",
       "Investigator or Source    27.784\n",
       "Type                      27.634\n",
       "Year                      27.611\n",
       "href formula              27.600\n",
       "Date                      27.588\n",
       "Case Number.2             27.588\n",
       "pdf                       27.588\n",
       "href                      27.588\n",
       "Case Number.1             27.588\n",
       "original order            27.508\n",
       "Case Number                0.011\n",
       "dtype: float64"
      ]
     },
     "execution_count": 10,
     "metadata": {},
     "output_type": "execute_result"
    }
   ],
   "source": [
    "nullPercentagePerColunm()"
   ]
  },
  {
   "cell_type": "code",
   "execution_count": 11,
   "metadata": {},
   "outputs": [],
   "source": [
    "#eliminamos todas las filas que tengan un porcentaje de nulos mayor o igual al 80%\n",
    "PERCENTAGE = int(round(80*attacks.shape[1]/100,0))\n",
    "attacks.dropna(axis=0,inplace=True,thresh=PERCENTAGE)"
   ]
  },
  {
   "cell_type": "code",
   "execution_count": 12,
   "metadata": {},
   "outputs": [
    {
     "data": {
      "text/plain": [
       "Time                      50.085\n",
       "Species                   42.935\n",
       "Age                       41.181\n",
       "Fatal (Y/N)                7.542\n",
       "Activity                   5.941\n",
       "Sex                        5.737\n",
       "Location                   5.346\n",
       "Area                       4.086\n",
       "Name                       1.055\n",
       "Investigator or Source     0.221\n",
       "Country                    0.170\n",
       "Injury                     0.136\n",
       "Year                       0.034\n",
       "href formula               0.017\n",
       "Case Number                0.017\n",
       "Type                       0.017\n",
       "Date                       0.000\n",
       "pdf                        0.000\n",
       "href                       0.000\n",
       "Case Number.1              0.000\n",
       "Case Number.2              0.000\n",
       "original order             0.000\n",
       "dtype: float64"
      ]
     },
     "execution_count": 12,
     "metadata": {},
     "output_type": "execute_result"
    }
   ],
   "source": [
    "nullPercentagePerColunm()"
   ]
  },
  {
   "attachments": {},
   "cell_type": "markdown",
   "metadata": {},
   "source": [
    "Reducimos bastante el procentaje de nulos\n"
   ]
  },
  {
   "attachments": {},
   "cell_type": "markdown",
   "metadata": {},
   "source": [
    "#### Analizamos columnas \n",
    "analizamos que datos nos van a ser realmente utiles (esto es muy subjetivo dependiendo\n",
    "de lo que se desee hacer con los datos), en mi caso los voy a preparar para que un analista pueda sacar concluciones de ellos, por ende es conveniente quedarnos con valores numericos, calificaciones de casos y datos de relevancia para dicho analisis"
   ]
  },
  {
   "cell_type": "code",
   "execution_count": 14,
   "metadata": {},
   "outputs": [
    {
     "data": {
      "text/plain": [
       "(5874, 22)"
      ]
     },
     "execution_count": 14,
     "metadata": {},
     "output_type": "execute_result"
    }
   ],
   "source": [
    "attacks.shape"
   ]
  },
  {
   "cell_type": "code",
   "execution_count": 15,
   "metadata": {},
   "outputs": [
    {
     "name": "stdout",
     "output_type": "stream",
     "text": [
      "cantidad de nulls en Date : 684\n",
      "cantidad de nulls en Case Number : 2222\n",
      "cantidad de nulls en Case Number.1 : 2220\n",
      "cantidad de nulls en Case Number.2 : 2222\n"
     ]
    }
   ],
   "source": [
    "#se repiten bastantes columnas de fechas vamos a quedarnos con la que tenga menos variacion en el formato\n",
    "#cambiamos los datos a date y verifiamcos cuantos casos nos qedan nullos así sabemos con cual de todas las fechas\n",
    "#quedarnos\n",
    "for date in [\"Date\",\"Case Number\",\"Case Number.1\",\"Case Number.2\"]:\n",
    "    print(\"cantidad de nulls en\",date,\":\",pd.to_datetime(attacks[date],errors=\"coerce\").isna().sum())\n"
   ]
  },
  {
   "cell_type": "code",
   "execution_count": 16,
   "metadata": {},
   "outputs": [],
   "source": [
    "#nos quedamos con la columna de fechas DATE ya que tiene menos cantidad de fechas nulas\n",
    "attacks.drop(axis = 1,inplace=True,labels=[\"Case Number\",\"Case Number.1\",\"Case Number.2\"])"
   ]
  },
  {
   "cell_type": "code",
   "execution_count": 18,
   "metadata": {},
   "outputs": [],
   "source": [
    "#eliminamos las columnas de pdfs que no nos van a servir par anada en nuestro analisis\n",
    "attacks.drop(columns=[\"href formula\",\"pdf\",\"href\"],inplace=True)"
   ]
  },
  {
   "cell_type": "code",
   "execution_count": 20,
   "metadata": {},
   "outputs": [],
   "source": [
    "#en mi caso elimino el area, locacion del suceso, nombre, invetigador y el tiempo en el que transcurrio\n",
    "#ya que particularmente son datos que no me intersean para el analisis\n",
    "attacks.drop(columns=[\"Area\",\"Location\",\"Name\",\"Investigator or Source\",\"Time\"],inplace=True)"
   ]
  },
  {
   "cell_type": "code",
   "execution_count": 22,
   "metadata": {},
   "outputs": [],
   "source": [
    "#damos un formato mas limpio a los nombres de las columnas\n",
    "attacks.rename(columns={\"Fatal (Y/N)\":\"Fatal\"},inplace=True)\n",
    "attacks.columns = [column.strip().capitalize().replace(' ','_') for column in list(attacks.columns)]"
   ]
  },
  {
   "cell_type": "code",
   "execution_count": 23,
   "metadata": {},
   "outputs": [
    {
     "data": {
      "text/plain": [
       "Index(['Date', 'Year', 'Type', 'Country', 'Activity', 'Sex', 'Age', 'Injury',\n",
       "       'Fatal', 'Species', 'Original_order'],\n",
       "      dtype='object')"
      ]
     },
     "execution_count": 23,
     "metadata": {},
     "output_type": "execute_result"
    }
   ],
   "source": [
    "attacks.columns"
   ]
  },
  {
   "attachments": {},
   "cell_type": "markdown",
   "metadata": {},
   "source": [
    "#### Analizis particular por columna\n",
    "es la hora de analizar columna a columna en busca de estandarizar los datos y transformarlos para que sean analizables"
   ]
  },
  {
   "cell_type": "code",
   "execution_count": 24,
   "metadata": {},
   "outputs": [],
   "source": [
    "#empezamos por date\n",
    "#vamos a transformar los datos de Date que estan en formato string a tipo Date y los comparamos\n",
    "attacks[\"CompareDate\"] = pd.to_datetime(attacks[\"Date\"],errors=\"coerce\")"
   ]
  },
  {
   "cell_type": "code",
   "execution_count": 26,
   "metadata": {},
   "outputs": [],
   "source": [
    "#mucho de los datos comienzan con Reported aplicamos una exprecion regular para cambiar re\n",
    "attacks[\"Date\"].replace(r'(?i)Reported\\s+',\"\",regex=True,inplace=True)"
   ]
  },
  {
   "cell_type": "code",
   "execution_count": 27,
   "metadata": {},
   "outputs": [],
   "source": [
    "attacks[\"CompareDate\"] = pd.to_datetime(attacks[\"Date\"],errors=\"coerce\")"
   ]
  },
  {
   "cell_type": "code",
   "execution_count": 28,
   "metadata": {},
   "outputs": [
    {
     "data": {
      "text/plain": [
       "4.221995233231188"
      ]
     },
     "execution_count": 28,
     "metadata": {},
     "output_type": "execute_result"
    }
   ],
   "source": [
    "#logramos pasar una gran cantidad de fechas que estaban en un formato disfuncional\n",
    "attacks[\"CompareDate\"].isna().sum()*100/attacks.shape[0]"
   ]
  },
  {
   "cell_type": "code",
   "execution_count": 29,
   "metadata": {},
   "outputs": [],
   "source": [
    "#en mi caso voy a eliminar las filas que tengan Fechas muy dificiles de transformar ya que representan\n",
    "#un porcnetaje muy bajo del dataFrame y seria imporductivo seguir intentando rescatar fechas\n",
    "#ya que quedan fechas con informacion dudosa\n",
    "\n",
    "attacks = attacks.loc[~attacks[\"CompareDate\"].isna(),:]"
   ]
  },
  {
   "cell_type": "code",
   "execution_count": 30,
   "metadata": {},
   "outputs": [
    {
     "name": "stderr",
     "output_type": "stream",
     "text": [
      "/tmp/ipykernel_37093/2365617412.py:1: SettingWithCopyWarning: \n",
      "A value is trying to be set on a copy of a slice from a DataFrame.\n",
      "Try using .loc[row_indexer,col_indexer] = value instead\n",
      "\n",
      "See the caveats in the documentation: https://pandas.pydata.org/pandas-docs/stable/user_guide/indexing.html#returning-a-view-versus-a-copy\n",
      "  attacks[\"Date\"] =  attacks[\"CompareDate\"]\n",
      "/tmp/ipykernel_37093/2365617412.py:2: SettingWithCopyWarning: \n",
      "A value is trying to be set on a copy of a slice from a DataFrame\n",
      "\n",
      "See the caveats in the documentation: https://pandas.pydata.org/pandas-docs/stable/user_guide/indexing.html#returning-a-view-versus-a-copy\n",
      "  attacks.drop(axis=1,columns=\"CompareDate\",inplace=True)\n"
     ]
    }
   ],
   "source": [
    "attacks[\"Date\"] =  attacks[\"CompareDate\"]\n",
    "attacks.drop(axis=1,columns=\"CompareDate\",inplace=True)"
   ]
  },
  {
   "cell_type": "code",
   "execution_count": 31,
   "metadata": {},
   "outputs": [
    {
     "name": "stdout",
     "output_type": "stream",
     "text": [
      "<class 'pandas.core.frame.DataFrame'>\n",
      "Int64Index: 5626 entries, 0 to 6160\n",
      "Data columns (total 11 columns):\n",
      " #   Column          Non-Null Count  Dtype         \n",
      "---  ------          --------------  -----         \n",
      " 0   Date            5626 non-null   datetime64[ns]\n",
      " 1   Year            5624 non-null   float64       \n",
      " 2   Type            5625 non-null   object        \n",
      " 3   Country         5616 non-null   object        \n",
      " 4   Activity        5308 non-null   object        \n",
      " 5   Sex             5301 non-null   object        \n",
      " 6   Age             3408 non-null   object        \n",
      " 7   Injury          5618 non-null   object        \n",
      " 8   Fatal           5198 non-null   object        \n",
      " 9   Species         3245 non-null   object        \n",
      " 10  Original_order  5626 non-null   float64       \n",
      "dtypes: datetime64[ns](1), float64(2), object(8)\n",
      "memory usage: 527.4+ KB\n"
     ]
    }
   ],
   "source": [
    "attacks.info()"
   ]
  },
  {
   "attachments": {},
   "cell_type": "markdown",
   "metadata": {},
   "source": [
    "#### Columna year"
   ]
  },
  {
   "cell_type": "code",
   "execution_count": 33,
   "metadata": {},
   "outputs": [
    {
     "data": {
      "text/plain": [
       "dtype('float64')"
      ]
     },
     "execution_count": 33,
     "metadata": {},
     "output_type": "execute_result"
    }
   ],
   "source": [
    "attacks.Year.dtype"
   ]
  },
  {
   "cell_type": "code",
   "execution_count": 34,
   "metadata": {},
   "outputs": [
    {
     "name": "stderr",
     "output_type": "stream",
     "text": [
      "/tmp/ipykernel_37093/1966063130.py:4: SettingWithCopyWarning: \n",
      "A value is trying to be set on a copy of a slice from a DataFrame.\n",
      "Try using .loc[row_indexer,col_indexer] = value instead\n",
      "\n",
      "See the caveats in the documentation: https://pandas.pydata.org/pandas-docs/stable/user_guide/indexing.html#returning-a-view-versus-a-copy\n",
      "  attacks[\"Year\"] = [date.year for date in list(attacks[\"Date\"])]\n"
     ]
    }
   ],
   "source": [
    "#son datos de tipo float y no sabemos si los datos se corresponden al año de nuestra columna Date\n",
    "#entonces tomamos los años de de la columna date y los asignamos a la columna year para que no tengamos\n",
    "#discontinuidad de datos\n",
    "attacks[\"Year\"] = [date.year for date in list(attacks[\"Date\"])]"
   ]
  },
  {
   "cell_type": "code",
   "execution_count": 35,
   "metadata": {},
   "outputs": [
    {
     "data": {
      "text/plain": [
       "True"
      ]
     },
     "execution_count": 35,
     "metadata": {},
     "output_type": "execute_result"
    }
   ],
   "source": [
    "([date.year for date in list(attacks[\"Date\"])] == attacks[\"Year\"]).all()"
   ]
  },
  {
   "cell_type": "code",
   "execution_count": 36,
   "metadata": {},
   "outputs": [
    {
     "data": {
      "text/plain": [
       "dtype('int64')"
      ]
     },
     "execution_count": 36,
     "metadata": {},
     "output_type": "execute_result"
    }
   ],
   "source": [
    "attacks[\"Year\"].dtype"
   ]
  },
  {
   "attachments": {},
   "cell_type": "markdown",
   "metadata": {},
   "source": [
    "#### Columna type \n"
   ]
  },
  {
   "cell_type": "code",
   "execution_count": 37,
   "metadata": {},
   "outputs": [
    {
     "data": {
      "text/plain": [
       "array(['Boating', 'Unprovoked', 'Invalid', 'Provoked', 'Questionable',\n",
       "       'Sea Disaster', nan, 'Boat', 'Boatomg'], dtype=object)"
      ]
     },
     "execution_count": 37,
     "metadata": {},
     "output_type": "execute_result"
    }
   ],
   "source": [
    "attacks.Type.unique()"
   ]
  },
  {
   "cell_type": "code",
   "execution_count": 38,
   "metadata": {},
   "outputs": [
    {
     "name": "stderr",
     "output_type": "stream",
     "text": [
      "/tmp/ipykernel_37093/3125077819.py:12: SettingWithCopyWarning: \n",
      "A value is trying to be set on a copy of a slice from a DataFrame.\n",
      "Try using .loc[row_indexer,col_indexer] = value instead\n",
      "\n",
      "See the caveats in the documentation: https://pandas.pydata.org/pandas-docs/stable/user_guide/indexing.html#returning-a-view-versus-a-copy\n",
      "  attacks.Type = CLEAN_TYPES\n"
     ]
    }
   ],
   "source": [
    "#tenemos muchos tipos de ataque algo que dificulta el analisis, veamos si podemos englobar algunos tipos dentro.\n",
    "#de las sigueintes categorias: Boat(accidentes que ocurrieron en una embarcacion),provocados(primera sangre),\n",
    "#cuestionables(falta de datos para determinar el tipo)\n",
    "CLEAN_TYPES = list()\n",
    "for tipe,i in zip(attacks.Type,range(0,attacks.shape[0])):\n",
    "    if tipe in [\"Boating\",\"Sea Disaster\",\"Boat\",\"Boatomg\"]:\n",
    "        CLEAN_TYPES.append(\"Boat\")\n",
    "    elif tipe in [\"Invalid\",np.nan]:\n",
    "        CLEAN_TYPES.append(\"Questionable\")\n",
    "    else:\n",
    "        CLEAN_TYPES.append(tipe)\n",
    "attacks.Type = CLEAN_TYPES"
   ]
  },
  {
   "attachments": {},
   "cell_type": "markdown",
   "metadata": {},
   "source": [
    "#### columna Paises"
   ]
  },
  {
   "cell_type": "code",
   "execution_count": 63,
   "metadata": {},
   "outputs": [
    {
     "data": {
      "text/plain": [
       "array(['Usa', 'Australia', 'Mexico', 'Brazil', 'England', 'South Africa',\n",
       "       'Thailand', 'Costa Rica', 'Maldives', 'Bahamas', 'New Caledonia',\n",
       "       'Ecuador', 'Malaysia', 'Libya', 'Cuba', 'Mauritius', 'New Zealand',\n",
       "       'Spain', 'Samoa', 'Solomon Islands', 'Japan', 'Egypt',\n",
       "       'St Helena| British Overseas Territory', 'Reunion',\n",
       "       'French Polynesia', 'United Kingdom', 'United Arab Emirates',\n",
       "       'Philippines', 'Indonesia', 'China', 'Columbia', 'Cape Verde',\n",
       "       'Fiji', 'Dominican Republic', 'Cayman Islands', 'Aruba',\n",
       "       'Mozambique', 'Puerto Rico', 'Italy', 'St. Martin', 'France',\n",
       "       'Papua New Guinea', 'Trinidad & Tobago', 'Kiribati', 'Israel',\n",
       "       'Diego Garcia', 'Taiwan', 'Jamaica', 'Palestinian Territories',\n",
       "       'Seychelles', 'Belize', 'Nigeria', 'Tonga', 'Scotland', 'Canada',\n",
       "       'Saudi Arabia', 'Chile', 'Antigua', 'Kenya', 'Russia',\n",
       "       'Turks & Caicos', 'United Arab Emirates (Uae)', 'Azores',\n",
       "       'South Korea', 'Malta', 'Vietnam', 'Madagascar', 'Guam', 'Panama',\n",
       "       'Somalia', 'Nevis', 'Croatia', 'British Virgin Islands', 'Norway',\n",
       "       'Yemen', 'Sierra Leone', 'Atlantic Ocean', 'St. Maartin',\n",
       "       'Grand Cayman', 'Vanuatu', 'Honduras', 'Venezuela', 'Sri Lanka',\n",
       "       'Uruguay', 'India', 'Micronesia', 'Caribbean Sea', 'Okinawa',\n",
       "       'Tanzania', 'Marshall Islands', 'Senegal', 'Hong Kong',\n",
       "       'El Salvador', 'Bermuda', 'Montenegro', 'Iran', 'Greece',\n",
       "       'Tunisia', 'Namibia', 'Portugal', 'South China Sea', 'Palau',\n",
       "       'Western Samoa', 'Pacific Ocean', 'British Isles', 'Grenada',\n",
       "       'Nan', 'Turkey', 'Singapore', 'New Britain', 'Johnston Island',\n",
       "       'South Pacific Ocean', 'New Guinea', 'North Pacific Ocean',\n",
       "       'Federated States Of Micronesia', 'Mid Atlantic Ocean',\n",
       "       'Admiralty Islands', 'British West Indies', 'South Atlantic Ocean',\n",
       "       'Persian Gulf', 'North Sea', 'Nicaragua', 'Maldive Islands',\n",
       "       'American Samoa', 'Andaman', 'Gabon', 'Mayotte',\n",
       "       'North Atlantic Ocean', 'The Balkans', 'Sudan?', 'Argentina',\n",
       "       'Sudan', 'Netherlands Antilles', 'Northern Mariana Islands',\n",
       "       'Java', 'Iraq', 'Central Pacific', 'Indian Ocean',\n",
       "       'Mid-Pacifc Ocean', 'Southwest Pacific Ocean', 'Curacao',\n",
       "       'Iceland', 'Barbados', 'Guyana', 'Haiti', 'San Domingo', 'Ireland',\n",
       "       'Reunion Island', 'Falkland Islands', 'Cyprus', 'Burma', 'Lebanon',\n",
       "       'Martinique', 'British New Guinea', 'Ocean', 'Georgia', 'Guinea',\n",
       "       'Andaman Islands', 'Equatorial Guinea', 'Cook Islands', 'Tobago',\n",
       "       'Peru', 'Coast Of Africa', 'Tasman Sea', 'Mediterranean Sea'],\n",
       "      dtype=object)"
      ]
     },
     "execution_count": 63,
     "metadata": {},
     "output_type": "execute_result"
    }
   ],
   "source": [
    "attacks[\"Country\"].unique()"
   ]
  },
  {
   "cell_type": "code",
   "execution_count": 62,
   "metadata": {},
   "outputs": [
    {
     "name": "stderr",
     "output_type": "stream",
     "text": [
      "/tmp/ipykernel_37093/3225427728.py:2: SettingWithCopyWarning: \n",
      "A value is trying to be set on a copy of a slice from a DataFrame.\n",
      "Try using .loc[row_indexer,col_indexer] = value instead\n",
      "\n",
      "See the caveats in the documentation: https://pandas.pydata.org/pandas-docs/stable/user_guide/indexing.html#returning-a-view-versus-a-copy\n",
      "  attacks[\"Country\"] = attacks[\"Country\"].apply(lambda country: str(country).strip().title())\n"
     ]
    }
   ],
   "source": [
    "#realizamos un strip para sacar espacios en el inico y final de los caracteres y usamos title para pasar\n",
    "#todas las palabras con la primera letra en mayusucla y las demas en minuscula\n",
    "attacks[\"Country\"] = attacks[\"Country\"].apply(lambda country: str(country).strip().title())"
   ]
  },
  {
   "cell_type": "code",
   "execution_count": 60,
   "metadata": {},
   "outputs": [
    {
     "name": "stderr",
     "output_type": "stream",
     "text": [
      "/tmp/ipykernel_37093/1702656443.py:1: SettingWithCopyWarning: \n",
      "A value is trying to be set on a copy of a slice from a DataFrame\n",
      "\n",
      "See the caveats in the documentation: https://pandas.pydata.org/pandas-docs/stable/user_guide/indexing.html#returning-a-view-versus-a-copy\n",
      "  attacks[\"Country\"].replace(r'\\b\\s+/.*',\"\",regex=True,inplace=True)\n"
     ]
    }
   ],
   "source": [
    "#eliminamos los registros que tenian dos paises quedandonos con solo uno \n",
    "attacks[\"Country\"].replace(r'\\b\\s+/.*',\"\",regex=True,inplace=True)"
   ]
  },
  {
   "cell_type": "code",
   "execution_count": 198,
   "metadata": {},
   "outputs": [],
   "source": [
    "def changeNameCountry(name):\n",
    "    if name == \"USA\":\n",
    "        return \"United States\"\n",
    "    if name in [\"England\",\"Scotland\"]:\n",
    "        return \"United Kingdom\"\n",
    "    if name == \"Columbia\":\n",
    "        return \"Colombia\"\n",
    "\n",
    "    return name"
   ]
  },
  {
   "cell_type": "code",
   "execution_count": 199,
   "metadata": {},
   "outputs": [],
   "source": [
    "attacks[\"Country\"] = attacks[\"Country\"].apply(lambda country: changeNameCountry(country))"
   ]
  },
  {
   "cell_type": "code",
   "execution_count": null,
   "metadata": {},
   "outputs": [],
   "source": [
    "API_PAISES = \"https://restcountries.com/\""
   ]
  },
  {
   "cell_type": "code",
   "execution_count": null,
   "metadata": {},
   "outputs": [],
   "source": [
    "response = requests.get(f\"{API_PAISES}v3.1/all?fields=name\")"
   ]
  },
  {
   "cell_type": "code",
   "execution_count": 157,
   "metadata": {},
   "outputs": [],
   "source": [
    "paises = pd.Series([dictionari[\"name\"][\"common\"] for dictionari in response.json()],name=\"Paises\")"
   ]
  },
  {
   "cell_type": "code",
   "execution_count": 164,
   "metadata": {},
   "outputs": [
    {
     "data": {
      "text/plain": [
       "0              Barbados\n",
       "1               Réunion\n",
       "2              Suriname\n",
       "3               Namibia\n",
       "4                Guinea\n",
       "             ...       \n",
       "245             Croatia\n",
       "246     Solomon Islands\n",
       "247            Honduras\n",
       "248    Christmas Island\n",
       "249         Puerto Rico\n",
       "Name: Paises, Length: 250, dtype: object"
      ]
     },
     "execution_count": 164,
     "metadata": {},
     "output_type": "execute_result"
    }
   ],
   "source": [
    "paises"
   ]
  },
  {
   "cell_type": "code",
   "execution_count": 205,
   "metadata": {},
   "outputs": [],
   "source": [
    "attacks = attacks.merge(right=paises,how=\"left\",left_on=\"Country\",right_on=\"Paises\")"
   ]
  },
  {
   "cell_type": "code",
   "execution_count": 203,
   "metadata": {},
   "outputs": [],
   "source": [
    "attacks.drop(inplace=True,columns=[\"Paises_x\", \"Paises_y\"])"
   ]
  },
  {
   "cell_type": "code",
   "execution_count": 206,
   "metadata": {},
   "outputs": [
    {
     "data": {
      "text/plain": [
       "array(['St Helena| British Overseas Territory', 'Reunion', 'Columbia',\n",
       "       'St. Martin', 'Trinidad & Tobago', 'Diego Garcia',\n",
       "       'Palestinian Territories', 'Antigua', 'Turks & Caicos',\n",
       "       'United Arab Emirates (Uae)', 'Azores', 'Nevis', 'Atlantic Ocean',\n",
       "       'St. Maartin', 'Grand Cayman', 'Caribbean Sea', 'Okinawa',\n",
       "       'South China Sea', 'Western Samoa', 'Pacific Ocean',\n",
       "       'British Isles', 'Nan', 'New Britain', 'Johnston Island',\n",
       "       'South Pacific Ocean', 'New Guinea', 'North Pacific Ocean',\n",
       "       'Federated States Of Micronesia', 'Mid Atlantic Ocean',\n",
       "       'Admiralty Islands', 'British West Indies', 'South Atlantic Ocean',\n",
       "       'Persian Gulf', 'North Sea', 'Maldive Islands', 'Andaman',\n",
       "       'North Atlantic Ocean', 'The Balkans', 'Sudan?',\n",
       "       'Netherlands Antilles', 'Java', 'Central Pacific', 'Indian Ocean',\n",
       "       'Mid-Pacifc Ocean', 'Southwest Pacific Ocean', 'Curacao',\n",
       "       'San Domingo', 'Reunion Island', 'Burma', 'British New Guinea',\n",
       "       'Ocean', 'Andaman Islands', 'Tobago', 'Coast Of Africa',\n",
       "       'Tasman Sea', 'Mediterranean Sea'], dtype=object)"
      ]
     },
     "execution_count": 206,
     "metadata": {},
     "output_type": "execute_result"
    }
   ],
   "source": [
    "attacks.loc[attacks[\"Paises\"].isna(),\"Country\"].unique()"
   ]
  },
  {
   "cell_type": "code",
   "execution_count": 207,
   "metadata": {},
   "outputs": [
    {
     "data": {
      "text/plain": [
       "187"
      ]
     },
     "execution_count": 207,
     "metadata": {},
     "output_type": "execute_result"
    }
   ],
   "source": [
    "attacks.loc[attacks[\"Paises\"].isna()].shape[0]"
   ]
  }
 ],
 "metadata": {
  "kernelspec": {
   "display_name": "Python 3",
   "language": "python",
   "name": "python3"
  },
  "language_info": {
   "codemirror_mode": {
    "name": "ipython",
    "version": 3
   },
   "file_extension": ".py",
   "mimetype": "text/x-python",
   "name": "python",
   "nbconvert_exporter": "python",
   "pygments_lexer": "ipython3",
   "version": "3.10.6"
  },
  "orig_nbformat": 4
 },
 "nbformat": 4,
 "nbformat_minor": 2
}
